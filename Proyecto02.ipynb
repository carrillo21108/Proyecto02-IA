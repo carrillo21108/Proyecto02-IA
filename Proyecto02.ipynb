{
 "cells": [
  {
   "cell_type": "code",
   "execution_count": 97,
   "metadata": {},
   "outputs": [],
   "source": [
    "import nltk\n",
    "import pandas as pd\n",
    "import matplotlib.pyplot as plt\n",
    "import chardet\n",
    "import re\n",
    "\n",
    "from nltk.corpus import stopwords\n",
    "from nltk.tokenize import word_tokenize\n",
    "from nltk.tokenize import WhitespaceTokenizer\n",
    "\n",
    "# Word Stemming\n",
    "from nltk.stem.porter import PorterStemmer\n",
    "\n",
    "# Word Lemmatization\n",
    "from nltk.stem import WordNetLemmatizer\n",
    "from nltk.corpus import wordnet\n",
    "\n",
    "# Divisón estratificada\n",
    "from sklearn.model_selection import train_test_split"
   ]
  },
  {
   "cell_type": "code",
   "execution_count": 2,
   "metadata": {},
   "outputs": [
    {
     "name": "stderr",
     "output_type": "stream",
     "text": [
      "[nltk_data] Downloading package stopwords to\n",
      "[nltk_data]     C:\\Users\\bcarr\\AppData\\Roaming\\nltk_data...\n",
      "[nltk_data]   Package stopwords is already up-to-date!\n",
      "[nltk_data] Downloading package wordnet to\n",
      "[nltk_data]     C:\\Users\\bcarr\\AppData\\Roaming\\nltk_data...\n",
      "[nltk_data]   Package wordnet is already up-to-date!\n",
      "[nltk_data] Downloading package punkt to\n",
      "[nltk_data]     C:\\Users\\bcarr\\AppData\\Roaming\\nltk_data...\n",
      "[nltk_data]   Package punkt is already up-to-date!\n",
      "[nltk_data] Downloading package averaged_perceptron_tagger to\n",
      "[nltk_data]     C:\\Users\\bcarr\\AppData\\Roaming\\nltk_data...\n",
      "[nltk_data]   Package averaged_perceptron_tagger is already up-to-\n",
      "[nltk_data]       date!\n",
      "[nltk_data] Downloading package omw-1.4 to\n",
      "[nltk_data]     C:\\Users\\bcarr\\AppData\\Roaming\\nltk_data...\n",
      "[nltk_data]   Package omw-1.4 is already up-to-date!\n"
     ]
    }
   ],
   "source": [
    "# Descargas de nltk\n",
    "nltk.download('stopwords')\n",
    "nltk.download('wordnet')\n",
    "nltk.download('punkt')\n",
    "nltk.download('averaged_perceptron_tagger')\n",
    "nltk.download('omw-1.4')\n",
    "\n",
    "# Crear una instancia del WordNet Lemmatizer\n",
    "lemmatizer = WordNetLemmatizer()\n",
    "\n",
    "# Crear una instancia del Porter Stemmer\n",
    "stemmer = PorterStemmer()\n",
    "\n",
    "# Crear una instancia del tokenizador\n",
    "tokenizer = WhitespaceTokenizer()\n",
    "\n",
    "# Lista de stopwords en ingles\n",
    "stop_words = set(stopwords.words('english'))\n"
   ]
  },
  {
   "cell_type": "code",
   "execution_count": 60,
   "metadata": {},
   "outputs": [],
   "source": [
    "# Leer el archivo con la codificacion detectada\n",
    "df = pd.read_csv('spam.csv', encoding='ISO-8859-1')\n",
    "df = df[['v1', 'v2']]"
   ]
  },
  {
   "cell_type": "code",
   "execution_count": 39,
   "metadata": {},
   "outputs": [],
   "source": [
    "# Funcion para mapeo de POS a primer caracter\n",
    "def get_wordnet_pos(word, tag):\n",
    "    \"\"\"Map POS tag to the first character lemmatize() accepts\"\"\"\n",
    "    tag_dict = {\n",
    "        'J': wordnet.ADJ,\n",
    "        'N': wordnet.NOUN,\n",
    "        'V': wordnet.VERB,\n",
    "        'R': wordnet.ADV\n",
    "    }\n",
    "    return tag_dict.get(tag[0].upper(), wordnet.NOUN)"
   ]
  },
  {
   "cell_type": "markdown",
   "metadata": {},
   "source": [
    "### Análisis de datos exploratorio (EDA)"
   ]
  },
  {
   "cell_type": "markdown",
   "metadata": {},
   "source": [
    "Cantidad de spam y ham"
   ]
  },
  {
   "cell_type": "code",
   "execution_count": 28,
   "metadata": {},
   "outputs": [
    {
     "data": {
      "image/png": "[encoded data removed]",
      "text/plain": [
       "<Figure size 432x288 with 1 Axes>"
      ]
     },
     "metadata": {
      "needs_background": "light"
     },
     "output_type": "display_data"
    }
   ],
   "source": [
    "ax = df['v1'].value_counts().plot.bar()\n",
    "plt.title('Frecuencia de tipo de mensajes')\n",
    "plt.xlabel('Tipo')\n",
    "plt.ylabel('Cantidad')\n",
    "plt.xticks(rotation=45)  # Rotar las etiquetas del eje x para mejor visualización\n",
    "plt.show()"
   ]
  },
  {
   "cell_type": "markdown",
   "metadata": {},
   "source": [
    "### Limpieza de datos"
   ]
  },
  {
   "cell_type": "markdown",
   "metadata": {},
   "source": [
    "Conversión a letras minúsculas"
   ]
  },
  {
   "cell_type": "code",
   "execution_count": 61,
   "metadata": {},
   "outputs": [],
   "source": [
    "texts = df['v2'].tolist()\n",
    "texts = [text.lower() for text in texts]"
   ]
  },
  {
   "cell_type": "markdown",
   "metadata": {},
   "source": [
    "Tokenización de los textos"
   ]
  },
  {
   "cell_type": "code",
   "execution_count": 62,
   "metadata": {},
   "outputs": [],
   "source": [
    "# texts = [tokenizer.tokenize(text) for text in texts]\n",
    "texts = [word_tokenize(text) for text in texts]"
   ]
  },
  {
   "cell_type": "markdown",
   "metadata": {},
   "source": [
    "Eliminando tokens con signos de puntuación"
   ]
  },
  {
   "cell_type": "code",
   "execution_count": 63,
   "metadata": {},
   "outputs": [],
   "source": [
    "texts = [[token for token in text if not re.search(r'\\W+', token)] for text in texts]"
   ]
  },
  {
   "cell_type": "markdown",
   "metadata": {},
   "source": [
    "Eliminando tokens con números"
   ]
  },
  {
   "cell_type": "code",
   "execution_count": 64,
   "metadata": {},
   "outputs": [],
   "source": [
    "texts = [[token for token in text if not re.search(r'[0-9]+', token)] for text in texts]"
   ]
  },
  {
   "cell_type": "markdown",
   "metadata": {},
   "source": [
    "Eliminando stopwords"
   ]
  },
  {
   "cell_type": "code",
   "execution_count": 66,
   "metadata": {},
   "outputs": [],
   "source": [
    "texts = [[token for token in text if token not in stop_words] for text in texts]"
   ]
  },
  {
   "cell_type": "markdown",
   "metadata": {},
   "source": [
    "Lemmmatization"
   ]
  },
  {
   "cell_type": "code",
   "execution_count": 67,
   "metadata": {},
   "outputs": [],
   "source": [
    "values = [nltk.pos_tag(text) for text in texts]\n",
    "texts = [[lemmatizer.lemmatize(item[0], get_wordnet_pos(item[0], item[1])) for item in value] for value in values]"
   ]
  },
  {
   "cell_type": "markdown",
   "metadata": {},
   "source": [
    "Stemming"
   ]
  },
  {
   "cell_type": "code",
   "execution_count": 68,
   "metadata": {},
   "outputs": [],
   "source": [
    "texts = [[stemmer.stem(token) for token in text] for text in texts]"
   ]
  },
  {
   "cell_type": "markdown",
   "metadata": {},
   "source": [
    "### Modelo"
   ]
  },
  {
   "cell_type": "code",
   "execution_count": 69,
   "metadata": {},
   "outputs": [],
   "source": [
    "# Reemplazando la columna v2 por los valores obtenidos tras la limpieza\n",
    "df['v2'] = texts"
   ]
  },
  {
   "cell_type": "markdown",
   "metadata": {},
   "source": [
    "Conjunto de entrenamiento y prueba"
   ]
  },
  {
   "cell_type": "code",
   "execution_count": 98,
   "metadata": {},
   "outputs": [],
   "source": [
    "train, test = train_test_split(df, test_size=0.20, stratify=df['v1'], random_state=42)"
   ]
  },
  {
   "cell_type": "code",
   "execution_count": 100,
   "metadata": {},
   "outputs": [
    {
     "data": {
      "image/png": "[encoded data removed]",
      "text/plain": [
       "<Figure size 432x288 with 1 Axes>"
      ]
     },
     "metadata": {
      "needs_background": "light"
     },
     "output_type": "display_data"
    }
   ],
   "source": [
    "ax = train['v1'].value_counts().plot.bar()\n",
    "plt.title('Frecuencia de tipo de mensajes de entrenamiento')\n",
    "plt.xlabel('Tipo')\n",
    "plt.ylabel('Cantidad')\n",
    "plt.xticks(rotation=45)  # Rotar las etiquetas del eje x para mejor visualización\n",
    "plt.show()"
   ]
  },
  {
   "cell_type": "code",
   "execution_count": 101,
   "metadata": {},
   "outputs": [
    {
     "data": {
      "image/png": "[encoded data removed]",
      "text/plain": [
       "<Figure size 432x288 with 1 Axes>"
      ]
     },
     "metadata": {
      "needs_background": "light"
     },
     "output_type": "display_data"
    }
   ],
   "source": [
    "ax = test['v1'].value_counts().plot.bar()\n",
    "plt.title('Frecuencia de tipo de mensajes de prueba')\n",
    "plt.xlabel('Tipo')\n",
    "plt.ylabel('Cantidad')\n",
    "plt.xticks(rotation=45)  # Rotar las etiquetas del eje x para mejor visualización\n",
    "plt.show()"
   ]
  },
  {
   "cell_type": "markdown",
   "metadata": {},
   "source": [
    "Construcción de los diccionarios"
   ]
  },
  {
   "cell_type": "code",
   "execution_count": 102,
   "metadata": {},
   "outputs": [],
   "source": [
    "#Diccionarios para ham y spam\n",
    "ham_words = {}\n",
    "spam_words = {}\n",
    "\n",
    "# Función para actualizar el diccionario de conteos\n",
    "def update_word_count(word_list, word_dict):\n",
    "    for word in word_list:\n",
    "        if word in word_dict:\n",
    "            word_dict[word] += 1\n",
    "        else:\n",
    "            word_dict[word] = 1\n",
    "\n",
    "# Iterar sobre el DataFrame y actualizar los diccionarios según la categoría\n",
    "for _, row in train.iterrows():\n",
    "    if row['v1'] == 'ham':\n",
    "        update_word_count(row['v2'], ham_words)\n",
    "    elif row['v1'] == 'spam':\n",
    "        update_word_count(row['v2'], spam_words)\n"
   ]
  },
  {
   "cell_type": "code",
   "execution_count": 103,
   "metadata": {},
   "outputs": [
    {
     "data": {
      "image/png": "[encoded data removed]",
      "text/plain": [
       "<Figure size 720x576 with 1 Axes>"
      ]
     },
     "metadata": {
      "needs_background": "light"
     },
     "output_type": "display_data"
    }
   ],
   "source": [
    "sorted_ham_words = sorted(ham_words.items(), key=lambda item: item[1], reverse=True)[:10]\n",
    "words, counts = zip(*sorted_ham_words)  # Desempaquetar en listas separadas\n",
    "\n",
    "# Crear la gráfica de barras\n",
    "plt.figure(figsize=(10, 8))\n",
    "plt.bar(words, counts, color='skyblue')\n",
    "plt.title('Palabras más frecuentes en Ham')\n",
    "plt.xlabel('Palabra')\n",
    "plt.ylabel('Cantidad')\n",
    "plt.xticks(rotation=45)\n",
    "\n",
    "# Mostrar la gráfica\n",
    "plt.show()"
   ]
  },
  {
   "cell_type": "code",
   "execution_count": 104,
   "metadata": {},
   "outputs": [
    {
     "data": {
      "image/png": "[encoded data removed]",
      "text/plain": [
       "<Figure size 720x576 with 1 Axes>"
      ]
     },
     "metadata": {
      "needs_background": "light"
     },
     "output_type": "display_data"
    }
   ],
   "source": [
    "sorted_spam_words = sorted(spam_words.items(), key=lambda item: item[1], reverse=True)[:10]\n",
    "words, counts = zip(*sorted_spam_words)  # Desempaquetar en listas separadas\n",
    "\n",
    "# Crear la gráfica de barras\n",
    "plt.figure(figsize=(10, 8))\n",
    "plt.bar(words, counts, color='skyblue')\n",
    "plt.title('Palabras más frecuentes en Spam')\n",
    "plt.xlabel('Palabra')\n",
    "plt.ylabel('Cantidad')\n",
    "plt.xticks(rotation=45)\n",
    "\n",
    "# Mostrar la gráfica\n",
    "plt.show()"
   ]
  },
  {
   "cell_type": "markdown",
   "metadata": {},
   "source": [
    "Probabilidades"
   ]
  },
  {
   "cell_type": "code",
   "execution_count": 133,
   "metadata": {},
   "outputs": [],
   "source": [
    "# P(S), P(H)\n",
    "cant_h, cant_s = train['v1'].value_counts().tolist()\n",
    "cant_total = cant_h+cant_s\n",
    "\n",
    "p_h = cant_h/cant_total\n",
    "p_s = cant_s/cant_total\n",
    "\n",
    "vocab_size = len(set(spam_words.keys()).union(set(ham_words.keys())))\n",
    "\n",
    "total_words_in_spam = sum(spam_words.values())\n",
    "total_words_in_ham = sum(ham_words.values())\n",
    "\n",
    "additive_smoothing = 1\n",
    "\n",
    "# Funcion P(S|W)\n",
    "def p_s_w(word):\n",
    "    # P(W|S) con suavizado de Laplace\n",
    "    p_w_s = (spam_words.get(word, 0) + additive_smoothing) / (total_words_in_spam + additive_smoothing * vocab_size)\n",
    "\n",
    "    # P(W|H) con suavizado de Laplace\n",
    "    p_w_h = (ham_words.get(word, 0) + additive_smoothing) / (total_words_in_ham + additive_smoothing * vocab_size)\n",
    "\n",
    "    # P(W|S) * P(S)\n",
    "    numerator = p_w_s * p_s\n",
    "\n",
    "    # [P(W|S) * P(S)] + [P(W|H) * P(H)]\n",
    "    denominator = numerator + (p_w_h * p_h)\n",
    "\n",
    "    return numerator / denominator if denominator != 0 else 0"
   ]
  },
  {
   "cell_type": "code",
   "execution_count": 135,
   "metadata": {},
   "outputs": [],
   "source": [
    "def modelo(text):\n",
    "    text = text.lower()\n",
    "    tokens = word_tokenize(text)\n",
    "    for token in tokens:\n",
    "        print(p_s_w(token))\n",
    "    "
   ]
  },
  {
   "cell_type": "code",
   "execution_count": 137,
   "metadata": {},
   "outputs": [
    {
     "name": "stdout",
     "output_type": "stream",
     "text": [
      "0.59668562500021\n",
      "0.29769801720105143\n"
     ]
    }
   ],
   "source": [
    "modelo('free hola')"
   ]
  },
  {
   "cell_type": "markdown",
   "metadata": {},
   "source": [
    "### Pruebas de rendimiento"
   ]
  }
 ],
 "metadata": {
  "kernelspec": {
   "display_name": "Python 3",
   "language": "python",
   "name": "python3"
  },
  "language_info": {
   "codemirror_mode": {
    "name": "ipython",
    "version": 3
   },
   "file_extension": ".py",
   "mimetype": "text/x-python",
   "name": "python",
   "nbconvert_exporter": "python",
   "pygments_lexer": "ipython3",
   "version": "3.6.2"
  }
 },
 "nbformat": 4,
 "nbformat_minor": 2
}
